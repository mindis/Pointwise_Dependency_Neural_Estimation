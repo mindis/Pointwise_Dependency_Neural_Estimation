{
 "cells": [
  {
   "cell_type": "code",
   "execution_count": 1,
   "metadata": {},
   "outputs": [],
   "source": [
    "import torch\n",
    "import numpy as np\n",
    "import os \n",
    "\n",
    "from torch.utils.data import Dataset\n",
    "from torch.utils.data import DataLoader\n",
    "from src.train import estimate_mutual_information\n",
    "from src.estimators import density_ratio_fitting_obj, probabilistic_classifier_obj, js_fgan_lower_bound_obj\n",
    "import torch.optim as optim\n",
    "\n",
    "import seaborn as sns\n",
    "import matplotlib.pyplot as plt"
   ]
  },
  {
   "cell_type": "code",
   "execution_count": 2,
   "metadata": {},
   "outputs": [],
   "source": [
    "import os\n",
    "os.environ[\"CUDA_VISIBLE_DEVICES\"]=\"0\""
   ]
  },
  {
   "cell_type": "code",
   "execution_count": 3,
   "metadata": {},
   "outputs": [],
   "source": [
    "audio_dim, textual_dim = 100, 100\n",
    "batch_size = 512\n",
    "estimator = 'probabilistic_classifier' # 'density_ratio_fitting' 'probabilistic_classifier' 'variational_f_js'\n",
    "\n",
    "\n",
    "lr = 1e-3\n",
    "\n",
    "relative_ratio = 0.001\n",
    "\n",
    "hidden_dim=512 \n",
    "embed_dim=128\n",
    "layers=1\n",
    "activation = 'relu'"
   ]
  },
  {
   "cell_type": "code",
   "execution_count": 4,
   "metadata": {},
   "outputs": [],
   "source": [
    "# datassets are downloaded from \n",
    "# https://github.com/iamyuanchung/speech2vec-pretrained-vectors\n",
    "audio_base_pth = '../../speech2vec-pretrained-vectors/speech2vec/'\n",
    "textual_base_pth = '../../speech2vec-pretrained-vectors/word2vec/'"
   ]
  },
  {
   "cell_type": "code",
   "execution_count": 5,
   "metadata": {},
   "outputs": [],
   "source": [
    "import torch.nn as nn\n",
    "import torch.nn.functional as F\n",
    "def mlp(dim, hidden_dim, output_dim, layers, activation):\n",
    "    activation = {\n",
    "        'relu': nn.ReLU,\n",
    "        'tanh': nn.Tanh,\n",
    "    }[activation]\n",
    "\n",
    "    seq = [nn.Linear(dim, hidden_dim), activation()]\n",
    "    for _ in range(layers):\n",
    "        seq += [nn.Linear(hidden_dim, hidden_dim), activation()]\n",
    "    seq += [nn.Linear(hidden_dim, output_dim)]\n",
    "\n",
    "    return nn.Sequential(*seq)\n",
    "class SeparableCritic(nn.Module):\n",
    "    def __init__(self, audio_dim, textual_dim, hidden_dim, embed_dim, \n",
    "                 layers, activation):\n",
    "        super(SeparableCritic, self).__init__()\n",
    "        self._g = mlp(audio_dim, hidden_dim, embed_dim, layers, activation)\n",
    "        self._h = mlp(textual_dim, hidden_dim, embed_dim, layers, activation)\n",
    "\n",
    "    def transformed_x(self, x):\n",
    "        return self._g(x)\n",
    "    \n",
    "    def transformed_y(self, y):\n",
    "        return self._h(y)\n",
    "    \n",
    "    def forward(self, x, y):\n",
    "        scores = torch.matmul(self._h(y), self._g(x).t())\n",
    "        return scores\n",
    "    \n",
    "    def pointwise_mi(self, x, y, estimator):\n",
    "        scores = torch.matmul(self._h(y), self._g(x).t())\n",
    "        if estimator == 'density_ratio_fitting':\n",
    "            relative_ratio_scores = torch.clamp(scores, min=1e-5, max=(1./relative_ratio)-1e-5).diag()\n",
    "            ratio_scores = (1.-relative_ratio) / (1.-relative_ratio*relative_ratio_scores) * relative_ratio_scores\n",
    "            PMI = torch.log(ratio_scores)\n",
    "        elif estimator == 'squared_mutual_information':\n",
    "            PMI = 0.5*scores.diag() - 0.5\n",
    "            #PMI = torch.clamp(PMI, min=1e-4)\n",
    "        elif estimator == 'nwj':\n",
    "            PMI = scores.diag() - 1.\n",
    "        elif estimator == 'variational_f_js':\n",
    "            PMI = scores.diag()\n",
    "        elif estimator == 'smile':\n",
    "            PMI = scores.diag()\n",
    "        elif estimator == 'js_squared_mutual_information':\n",
    "            PMI = 0.5*scores.diag().exp() - 0.5\n",
    "        elif estimator == 'probabilistic_classifier':\n",
    "            # the prob of being a pair\n",
    "            #PMI = torch.sigmoid(scores.diag())\n",
    "            # PMI\n",
    "            batch_size = scores.shape[0]\n",
    "            # N_pxpy / N_pxy = (batch_size - 1.) * batch_size / batch_size\n",
    "            PMI = scores.diag() + np.log(batch_size - 1.)\n",
    "        else:\n",
    "            raise NotImplementedError(\"not supporting our PMI!\")\n",
    "        return PMI"
   ]
  },
  {
   "cell_type": "code",
   "execution_count": 6,
   "metadata": {},
   "outputs": [],
   "source": [
    "class BiModalDataset(Dataset):\n",
    "    def __init__(self, audio_base_pth, textual_base_pth, \n",
    "                    audio_dim, textual_dim, mode='all'):\n",
    "        assert mode == 'train' or mode == 'test' or mode == 'all'\n",
    "        \n",
    "        audio_pth = os.path.join(audio_base_pth, str(audio_dim)+'.vec')\n",
    "        textual_pth = os.path.join(textual_base_pth, str(textual_dim)+'.vec')\n",
    "        \n",
    "        with open(audio_pth, 'r') as audio_file:\n",
    "            audio_Lines = audio_file.readlines() \n",
    "        with open(textual_pth, 'r') as textual_file:\n",
    "            textual_Lines = textual_file.readlines() \n",
    "        \n",
    "        self.bimodal_list = []\n",
    "        self.word_list = []\n",
    "        for audio_line, textual_line in zip(audio_Lines[1:], textual_Lines[1:]):\n",
    "            audio_splits, textual_splits = audio_line.split(' '), textual_line.split(' ')\n",
    "            assert audio_splits[0] == textual_splits[0]\n",
    "            audio_vec, textual_vec = audio_splits[1:audio_dim+1], textual_splits[1:textual_dim+1]\n",
    "            self.bimodal_list.append((\n",
    "                np.array([float(_v) for _v in audio_vec], dtype=np.float32),\n",
    "                np.array([float(_v) for _v in textual_vec], dtype=np.float32)\n",
    "            ))\n",
    "            self.word_list.append(audio_splits[0])\n",
    "        \n",
    "        self.mode = mode\n",
    "        \n",
    "        test_split = np.load('wordfeat_test_split.npy')\n",
    "        if self.mode == 'train':\n",
    "            for ele in sorted(test_split, reverse = True):\n",
    "                del self.bimodal_list[ele]\n",
    "                del self.word_list[ele]\n",
    "        elif self.mode == 'test':\n",
    "            new_bimodal_list = []\n",
    "            new_word_list = []\n",
    "            for ele in test_split:\n",
    "                new_bimodal_list.append(self.bimodal_list[ele])\n",
    "                new_word_list.append(self.word_list[ele])\n",
    "            self.bimodal_list = new_bimodal_list\n",
    "            self.word_list = new_word_list\n",
    "        elif self.mode == 'all':\n",
    "            pass\n",
    "        \n",
    "    def get_bimodal_list(self):\n",
    "        return self.bimodal_list\n",
    "    \n",
    "    def get_word_list(self):\n",
    "        return self.word_list\n",
    "     \n",
    "    def __getitem__(self, index):\n",
    "        if self.mode == 'train' or self.mode == 'all':\n",
    "            audio, textual = self.bimodal_list[index]\n",
    "            word = self.word_list[index]\n",
    "            \n",
    "            return audio, textual, word\n",
    "        elif self.mode == 'test':\n",
    "            audio, textual = self.bimodal_list[index]\n",
    "            word = self.word_list[index]\n",
    "            \n",
    "            out_textual = [textual]\n",
    "            out_word = [word]\n",
    "            \n",
    "            for i in range(1,5):\n",
    "                out_textual.append(self.bimodal_list[(index+i*5)%len(self.bimodal_list)][1])\n",
    "                out_word.append(self.word_list[(index+i*5)%len(self.bimodal_list)])\n",
    "        \n",
    "            return audio, np.stack(out_textual), out_word\n",
    "    def __len__(self):\n",
    "        return len(self.bimodal_list)"
   ]
  },
  {
   "cell_type": "code",
   "execution_count": 7,
   "metadata": {},
   "outputs": [],
   "source": [
    "# creating the train and test split\n",
    "#bimodal_dataset = BiModalDataset(audio_base_pth, textual_base_pth, audio_dim, textual_dim, mode='all')\n",
    "#test_split = np.random.choice(len(bimodal_dataset), size=5000, replace=False)\n",
    "#np.save('wordfeat_test_split.npy', test_split)"
   ]
  },
  {
   "cell_type": "code",
   "execution_count": 8,
   "metadata": {},
   "outputs": [],
   "source": [
    "train_bimodal_dataset = BiModalDataset(audio_base_pth, textual_base_pth, audio_dim, textual_dim, mode='train')\n",
    "test_bimodal_dataset = BiModalDataset(audio_base_pth, textual_base_pth, audio_dim, textual_dim, mode='test')"
   ]
  },
  {
   "cell_type": "code",
   "execution_count": 10,
   "metadata": {},
   "outputs": [
    {
     "data": {
      "text/plain": [
       "32622"
      ]
     },
     "execution_count": 10,
     "metadata": {},
     "output_type": "execute_result"
    }
   ],
   "source": [
    "len(train_bimodal_dataset)"
   ]
  },
  {
   "cell_type": "code",
   "execution_count": 11,
   "metadata": {},
   "outputs": [
    {
     "data": {
      "text/plain": [
       "5000"
      ]
     },
     "execution_count": 11,
     "metadata": {},
     "output_type": "execute_result"
    }
   ],
   "source": [
    "len(test_bimodal_dataset)"
   ]
  },
  {
   "cell_type": "code",
   "execution_count": 9,
   "metadata": {},
   "outputs": [],
   "source": [
    "train_loader = DataLoader(train_bimodal_dataset, shuffle=True, drop_last=True,\n",
    "                           batch_size=batch_size,\n",
    "                           num_workers=4)\n",
    "test_loader = DataLoader(test_bimodal_dataset, shuffle=False, drop_last=False,\n",
    "                           batch_size=batch_size,\n",
    "                           num_workers=4)"
   ]
  },
  {
   "cell_type": "code",
   "execution_count": 10,
   "metadata": {},
   "outputs": [],
   "source": [
    "critic_model = SeparableCritic(audio_dim=audio_dim, textual_dim=textual_dim, \n",
    "                 hidden_dim=hidden_dim, embed_dim=embed_dim, layers=layers, activation=activation).cuda()\n",
    "\n",
    "opt_crit = optim.Adam(critic_model.parameters(), lr=lr)"
   ]
  },
  {
   "cell_type": "code",
   "execution_count": 11,
   "metadata": {},
   "outputs": [
    {
     "name": "stdout",
     "output_type": "stream",
     "text": [
      "iter:  0  i_batch:  0  negative_loss:  -0.6919193267822266\n",
      "iter:  1  i_batch:  0  negative_loss:  -0.015291077084839344\n",
      "iter:  2  i_batch:  0  negative_loss:  -0.014690371230244637\n",
      "iter:  3  i_batch:  0  negative_loss:  -0.014407912269234657\n",
      "iter:  4  i_batch:  0  negative_loss:  -0.014195508323609829\n",
      "iter:  5  i_batch:  0  negative_loss:  -0.014128301292657852\n",
      "iter:  6  i_batch:  0  negative_loss:  -0.013972653076052666\n",
      "iter:  7  i_batch:  0  negative_loss:  -0.013455159030854702\n",
      "iter:  8  i_batch:  0  negative_loss:  -0.013211779296398163\n",
      "iter:  9  i_batch:  0  negative_loss:  -0.012991600669920444\n",
      "iter:  10  i_batch:  0  negative_loss:  -0.013038893230259418\n",
      "iter:  11  i_batch:  0  negative_loss:  -0.012727940455079079\n",
      "iter:  12  i_batch:  0  negative_loss:  -0.012578165158629417\n",
      "iter:  13  i_batch:  0  negative_loss:  -0.011555886827409267\n",
      "iter:  14  i_batch:  0  negative_loss:  -0.011161146685481071\n",
      "iter:  15  i_batch:  0  negative_loss:  -0.011138396337628365\n",
      "iter:  16  i_batch:  0  negative_loss:  -0.010800504125654697\n",
      "iter:  17  i_batch:  0  negative_loss:  -0.010575046762824059\n",
      "iter:  18  i_batch:  0  negative_loss:  -0.009462177753448486\n",
      "iter:  19  i_batch:  0  negative_loss:  -0.009008836932480335\n",
      "iter:  20  i_batch:  0  negative_loss:  -0.008626248687505722\n",
      "iter:  21  i_batch:  0  negative_loss:  -0.008215874433517456\n",
      "iter:  22  i_batch:  0  negative_loss:  -0.008202924393117428\n",
      "iter:  23  i_batch:  0  negative_loss:  -0.008342218585312366\n",
      "iter:  24  i_batch:  0  negative_loss:  -0.00808374397456646\n",
      "iter:  25  i_batch:  0  negative_loss:  -0.008106620982289314\n",
      "iter:  26  i_batch:  0  negative_loss:  -0.007918054237961769\n",
      "iter:  27  i_batch:  0  negative_loss:  -0.007805888541042805\n",
      "iter:  28  i_batch:  0  negative_loss:  -0.007961690425872803\n",
      "iter:  29  i_batch:  0  negative_loss:  -0.00745952595025301\n",
      "iter:  30  i_batch:  0  negative_loss:  -0.007019350305199623\n",
      "iter:  31  i_batch:  0  negative_loss:  -0.006927399896085262\n",
      "iter:  32  i_batch:  0  negative_loss:  -0.006507111247628927\n",
      "iter:  33  i_batch:  0  negative_loss:  -0.006838108412921429\n",
      "iter:  34  i_batch:  0  negative_loss:  -0.006422051228582859\n",
      "iter:  35  i_batch:  0  negative_loss:  -0.006473986431956291\n",
      "iter:  36  i_batch:  0  negative_loss:  -0.006302985362708569\n",
      "iter:  37  i_batch:  0  negative_loss:  -0.006147749722003937\n",
      "iter:  38  i_batch:  0  negative_loss:  -0.005471775773912668\n",
      "iter:  39  i_batch:  0  negative_loss:  -0.005681190639734268\n",
      "iter:  40  i_batch:  0  negative_loss:  -0.005470242351293564\n",
      "iter:  41  i_batch:  0  negative_loss:  -0.005676828790456057\n",
      "iter:  42  i_batch:  0  negative_loss:  -0.005304852966219187\n",
      "iter:  43  i_batch:  0  negative_loss:  -0.005238902755081654\n",
      "iter:  44  i_batch:  0  negative_loss:  -0.005343154072761536\n",
      "iter:  45  i_batch:  0  negative_loss:  -0.0051872944459319115\n",
      "iter:  46  i_batch:  0  negative_loss:  -0.004867467563599348\n",
      "iter:  47  i_batch:  0  negative_loss:  -0.005270036403089762\n",
      "iter:  48  i_batch:  0  negative_loss:  -0.004977686796337366\n",
      "iter:  49  i_batch:  0  negative_loss:  -0.004942517727613449\n",
      "iter:  50  i_batch:  0  negative_loss:  -0.004550307057797909\n",
      "iter:  51  i_batch:  0  negative_loss:  -0.004528948105871677\n",
      "iter:  52  i_batch:  0  negative_loss:  -0.004499415867030621\n",
      "iter:  53  i_batch:  0  negative_loss:  -0.004225676879286766\n",
      "iter:  54  i_batch:  0  negative_loss:  -0.004105241037905216\n",
      "iter:  55  i_batch:  0  negative_loss:  -0.004026031121611595\n",
      "iter:  56  i_batch:  0  negative_loss:  -0.003990336786955595\n",
      "iter:  57  i_batch:  0  negative_loss:  -0.003980656620115042\n",
      "iter:  58  i_batch:  0  negative_loss:  -0.0039036537054926157\n",
      "iter:  59  i_batch:  0  negative_loss:  -0.004116814583539963\n",
      "iter:  60  i_batch:  0  negative_loss:  -0.0034552705474197865\n",
      "iter:  61  i_batch:  0  negative_loss:  -0.003834168892353773\n",
      "iter:  62  i_batch:  0  negative_loss:  -0.003836394054815173\n",
      "iter:  63  i_batch:  0  negative_loss:  -0.0038002976216375828\n",
      "iter:  64  i_batch:  0  negative_loss:  -0.0034908640664070845\n",
      "iter:  65  i_batch:  0  negative_loss:  -0.0036789451260119677\n",
      "iter:  66  i_batch:  0  negative_loss:  -0.00353211909532547\n",
      "iter:  67  i_batch:  0  negative_loss:  -0.0030339625664055347\n",
      "iter:  68  i_batch:  0  negative_loss:  -0.0037743716966360807\n",
      "iter:  69  i_batch:  0  negative_loss:  -0.003187723457813263\n",
      "iter:  70  i_batch:  0  negative_loss:  -0.003404419869184494\n",
      "iter:  71  i_batch:  0  negative_loss:  -0.003075005952268839\n",
      "iter:  72  i_batch:  0  negative_loss:  -0.003244116436690092\n",
      "iter:  73  i_batch:  0  negative_loss:  -0.003086806507781148\n",
      "iter:  74  i_batch:  0  negative_loss:  -0.002737933536991477\n",
      "iter:  75  i_batch:  0  negative_loss:  -0.0031808894127607346\n",
      "iter:  76  i_batch:  0  negative_loss:  -0.0027736828196793795\n",
      "iter:  77  i_batch:  0  negative_loss:  -0.0029456247575581074\n",
      "iter:  78  i_batch:  0  negative_loss:  -0.002724037505686283\n",
      "iter:  79  i_batch:  0  negative_loss:  -0.002863111440092325\n",
      "iter:  80  i_batch:  0  negative_loss:  -0.0029769418761134148\n",
      "iter:  81  i_batch:  0  negative_loss:  -0.0030057865660637617\n",
      "iter:  82  i_batch:  0  negative_loss:  -0.0033719672355800867\n",
      "iter:  83  i_batch:  0  negative_loss:  -0.0024923537857830524\n",
      "iter:  84  i_batch:  0  negative_loss:  -0.0027154809795320034\n",
      "iter:  85  i_batch:  0  negative_loss:  -0.002711207140237093\n",
      "iter:  86  i_batch:  0  negative_loss:  -0.0026433742605149746\n",
      "iter:  87  i_batch:  0  negative_loss:  -0.0023119121324270964\n",
      "iter:  88  i_batch:  0  negative_loss:  -0.002453419379889965\n",
      "iter:  89  i_batch:  0  negative_loss:  -0.0025608569849282503\n",
      "iter:  90  i_batch:  0  negative_loss:  -0.0026181002613157034\n",
      "iter:  91  i_batch:  0  negative_loss:  -0.0024864706210792065\n",
      "iter:  92  i_batch:  0  negative_loss:  -0.002504476811736822\n",
      "iter:  93  i_batch:  0  negative_loss:  -0.00256163626909256\n",
      "iter:  94  i_batch:  0  negative_loss:  -0.0023159263655543327\n",
      "iter:  95  i_batch:  0  negative_loss:  -0.002523744013160467\n",
      "iter:  96  i_batch:  0  negative_loss:  -0.002441147807985544\n",
      "iter:  97  i_batch:  0  negative_loss:  -0.002270651515573263\n",
      "iter:  98  i_batch:  0  negative_loss:  -0.0023094345815479755\n",
      "iter:  99  i_batch:  0  negative_loss:  -0.0024006855674088\n"
     ]
    }
   ],
   "source": [
    "# Perform Training on Training Set\n",
    "for _iter in range(100):\n",
    "    for i_batch, (audio_batch, textual_batch, word_batch) in enumerate(train_loader):\n",
    "        opt_crit.zero_grad()\n",
    "        \n",
    "        audio_batch, textual_batch = audio_batch.cuda(), textual_batch.cuda()\n",
    "        scores = critic_model(audio_batch, textual_batch)   \n",
    "        \n",
    "        if estimator=='density_ratio_fitting':\n",
    "            # the mi here is the relative squared_mi\n",
    "            negative_loss = density_ratio_fitting_obj(scores, relative_ratio=relative_ratio)\n",
    "        elif estimator=='probabilistic_classifier':\n",
    "            negative_loss = probabilistic_classifier_obj(scores)\n",
    "        elif estimator=='variational_f_js':\n",
    "            negative_loss = js_fgan_lower_bound_obj(scores)\n",
    "        \n",
    "        loss = -negative_loss\n",
    "        \n",
    "        loss.backward()\n",
    "        opt_crit.step()\n",
    "        \n",
    "        if i_batch%100 == 0:\n",
    "            print('iter: ', _iter, ' i_batch: ', i_batch, ' negative_loss: ', negative_loss.item())"
   ]
  },
  {
   "cell_type": "code",
   "execution_count": 12,
   "metadata": {},
   "outputs": [
    {
     "name": "stdout",
     "output_type": "stream",
     "text": [
      "Top-1 Acc. on Test Set:  0.9586\n"
     ]
    }
   ],
   "source": [
    "# Perform Evaluation on Test Set\n",
    "critic_model.eval()\n",
    "\n",
    "correct_matches, incorrect_matches = [], []\n",
    "correct_words, incorrect_words = [], []\n",
    "\n",
    "for i_batch, (audio_batch, textuals_batch, words_batch) in enumerate(test_loader):\n",
    "    audio_batch, textuals_batch = audio_batch.cuda(), textuals_batch.cuda()\n",
    "    audio_batch = critic_model.transformed_x(audio_batch)\n",
    "    textuals_batch = critic_model.transformed_y(textuals_batch)\n",
    "    \n",
    "    words_batch = np.stack(words_batch).transpose()\n",
    "    \n",
    "    # for Probabilistic Classifier\n",
    "    matching_scores = torch.einsum('bd, bnd->bn', audio_batch, textuals_batch)\n",
    "    batch_size = scores.shape[0]\n",
    "    # N_pxpy / N_pxy = (batch_size - 1.) * batch_size / batch_size\n",
    "    matching_scores = matching_scores + np.log(batch_size - 1.)\n",
    "    \n",
    "    _, max_idx = matching_scores.max(1)\n",
    "    \n",
    "    correct_matches.append(matching_scores[max_idx == 0].detach().cpu().numpy())\n",
    "    incorrect_matches.append(matching_scores[max_idx != 0].detach().cpu().numpy())\n",
    "    \n",
    "    correct_words.append(words_batch[(max_idx == 0).detach().cpu().numpy()])\n",
    "    incorrect_words.append(words_batch[(max_idx != 0).detach().cpu().numpy()])\n",
    "\n",
    "correct_matches = np.concatenate(correct_matches)\n",
    "incorrect_matches = np.concatenate(incorrect_matches)\n",
    "\n",
    "correct_words = np.concatenate(correct_words)\n",
    "incorrect_words = np.concatenate(incorrect_words)\n",
    "\n",
    "correct_num = len(correct_matches)\n",
    "incorrect_num = len(incorrect_matches)\n",
    "    \n",
    "print('Top-1 Acc. on Test Set: ', float(correct_num) / float(correct_num+incorrect_num))"
   ]
  },
  {
   "cell_type": "code",
   "execution_count": 13,
   "metadata": {},
   "outputs": [
    {
     "data": {
      "text/plain": [
       "4793"
      ]
     },
     "execution_count": 13,
     "metadata": {},
     "output_type": "execute_result"
    }
   ],
   "source": [
    "len(correct_words)"
   ]
  },
  {
   "cell_type": "code",
   "execution_count": 14,
   "metadata": {},
   "outputs": [
    {
     "data": {
      "text/plain": [
       "array(['girl', 'inclusive', 'disappoint', 'lawson', 'buzzard'],\n",
       "      dtype='<U16')"
      ]
     },
     "execution_count": 14,
     "metadata": {},
     "output_type": "execute_result"
    }
   ],
   "source": [
    "correct_words[1000]"
   ]
  },
  {
   "cell_type": "code",
   "execution_count": 15,
   "metadata": {},
   "outputs": [
    {
     "data": {
      "text/plain": [
       "array([   8.164945, -102.94896 ,  -51.84197 ,  -40.587692,  -42.386898],\n",
       "      dtype=float32)"
      ]
     },
     "execution_count": 15,
     "metadata": {},
     "output_type": "execute_result"
    }
   ],
   "source": [
    "correct_matches[1000]"
   ]
  },
  {
   "cell_type": "code",
   "execution_count": 16,
   "metadata": {},
   "outputs": [
    {
     "data": {
      "text/plain": [
       "array(['ballot', 'charente', 'stern', 'parading', 'sprout'], dtype='<U16')"
      ]
     },
     "execution_count": 16,
     "metadata": {},
     "output_type": "execute_result"
    }
   ],
   "source": [
    "correct_words[2000]"
   ]
  },
  {
   "cell_type": "code",
   "execution_count": 17,
   "metadata": {},
   "outputs": [
    {
     "data": {
      "text/plain": [
       "array([  5.6664095, -17.47265  , -42.839417 ,  -9.466797 , -50.049355 ],\n",
       "      dtype=float32)"
      ]
     },
     "execution_count": 17,
     "metadata": {},
     "output_type": "execute_result"
    }
   ],
   "source": [
    "correct_matches[2000]"
   ]
  },
  {
   "cell_type": "code",
   "execution_count": 18,
   "metadata": {},
   "outputs": [
    {
     "data": {
      "text/plain": [
       "array(['pretends', 'institution', 'vibrating', 'laterally', \"hope's\"],\n",
       "      dtype='<U16')"
      ]
     },
     "execution_count": 18,
     "metadata": {},
     "output_type": "execute_result"
    }
   ],
   "source": [
    "correct_words[3000]"
   ]
  },
  {
   "cell_type": "code",
   "execution_count": 19,
   "metadata": {},
   "outputs": [
    {
     "data": {
      "text/plain": [
       "array([  0.4786954, -59.4416   , -89.225075 , -35.633835 , -33.158978 ],\n",
       "      dtype=float32)"
      ]
     },
     "execution_count": 19,
     "metadata": {},
     "output_type": "execute_result"
    }
   ],
   "source": [
    "correct_matches[3000]"
   ]
  },
  {
   "cell_type": "code",
   "execution_count": 20,
   "metadata": {},
   "outputs": [
    {
     "data": {
      "text/plain": [
       "array(['appetizing', 'agonies', 'crain', 'beech', 'marilla'], dtype='<U16')"
      ]
     },
     "execution_count": 20,
     "metadata": {},
     "output_type": "execute_result"
    }
   ],
   "source": [
    "incorrect_words[10]"
   ]
  },
  {
   "cell_type": "code",
   "execution_count": 21,
   "metadata": {},
   "outputs": [
    {
     "data": {
      "text/plain": [
       "array([ -0.01718569,  -9.588018  ,   1.1531272 ,  -9.907763  ,\n",
       "       -13.554598  ], dtype=float32)"
      ]
     },
     "execution_count": 21,
     "metadata": {},
     "output_type": "execute_result"
    }
   ],
   "source": [
    "incorrect_matches[10]"
   ]
  },
  {
   "cell_type": "code",
   "execution_count": 22,
   "metadata": {},
   "outputs": [
    {
     "data": {
      "text/plain": [
       "array(['poster', 'reprovingly', 'collapse', 'prancing', 'follower'],\n",
       "      dtype='<U16')"
      ]
     },
     "execution_count": 22,
     "metadata": {},
     "output_type": "execute_result"
    }
   ],
   "source": [
    "incorrect_words[20]"
   ]
  },
  {
   "cell_type": "code",
   "execution_count": 23,
   "metadata": {},
   "outputs": [
    {
     "data": {
      "text/plain": [
       "array([-2.1942754, -9.661741 , -9.226368 , -7.0322824, -0.2418685],\n",
       "      dtype=float32)"
      ]
     },
     "execution_count": 23,
     "metadata": {},
     "output_type": "execute_result"
    }
   ],
   "source": [
    "incorrect_matches[20]"
   ]
  },
  {
   "cell_type": "code",
   "execution_count": 24,
   "metadata": {},
   "outputs": [
    {
     "data": {
      "text/plain": [
       "array(['levant', 'roughness', 'innes', 'beasts', 'roadstead'],\n",
       "      dtype='<U16')"
      ]
     },
     "execution_count": 24,
     "metadata": {},
     "output_type": "execute_result"
    }
   ],
   "source": [
    "incorrect_words[30]"
   ]
  },
  {
   "cell_type": "code",
   "execution_count": 25,
   "metadata": {},
   "outputs": [
    {
     "data": {
      "text/plain": [
       "array([ -5.9291635, -10.413954 ,  -4.205334 , -25.541168 ,  -8.940712 ],\n",
       "      dtype=float32)"
      ]
     },
     "execution_count": 25,
     "metadata": {},
     "output_type": "execute_result"
    }
   ],
   "source": [
    "incorrect_matches[30]"
   ]
  },
  {
   "cell_type": "code",
   "execution_count": null,
   "metadata": {},
   "outputs": [],
   "source": []
  },
  {
   "cell_type": "code",
   "execution_count": null,
   "metadata": {},
   "outputs": [],
   "source": []
  },
  {
   "cell_type": "code",
   "execution_count": 26,
   "metadata": {},
   "outputs": [],
   "source": [
    "# Find the PMI\n",
    "train_pmi_loader = DataLoader(train_bimodal_dataset, shuffle=False, drop_last=False,\n",
    "                           batch_size=batch_size,\n",
    "                           num_workers=4)\n",
    "\n",
    "critic_model.eval()\n",
    "\n",
    "PMI_list = []\n",
    "\n",
    "for audio_batch, textual_batch, idx_batch in train_pmi_loader:\n",
    "    pointwise_mi = critic_model.pointwise_mi(audio_batch.cuda(), \n",
    "                                textual_batch.cuda(), estimator=estimator)\n",
    "    PMI_list.extend(pointwise_mi.detach().cpu().numpy())\n",
    "PMI_list = np.array(PMI_list)\n",
    "word_list = np.array(train_bimodal_dataset.get_word_list())\n",
    "\n",
    "# sorting\n",
    "sort_index = PMI_list.argsort() # from small to large\n",
    "\n",
    "PMI_list, word_list = PMI_list[sort_index], word_list[sort_index]"
   ]
  },
  {
   "cell_type": "code",
   "execution_count": null,
   "metadata": {},
   "outputs": [],
   "source": []
  },
  {
   "cell_type": "code",
   "execution_count": 39,
   "metadata": {},
   "outputs": [
    {
     "data": {
      "image/png": "[encoded data removed]",
      "text/plain": [
       "<Figure size 576x288 with 1 Axes>"
      ]
     },
     "metadata": {},
     "output_type": "display_data"
    }
   ],
   "source": [
    "def apply_default_style(ax):\n",
    "  ax.set_xlim([-10, 35])\n",
    "  ax.set_xlabel(\"PMI\")\n",
    "  plt.tick_params(top=False, right=False, bottom=False, left=False)\n",
    "  handles, labels = ax.get_legend_handles_labels()\n",
    "  plt.legend('')\n",
    "  \n",
    "\n",
    "FONTSIZE = 15 \n",
    "sns.set_style(\"whitegrid\")\n",
    "plt.rcParams.update({'axes.labelsize': FONTSIZE,\n",
    "                     'xtick.labelsize': FONTSIZE,\n",
    "                     'ytick.labelsize': FONTSIZE,\n",
    "                     'legend.fontsize': 11})\n",
    "plt.figure(figsize=(8, 4))\n",
    "ax = sns.distplot(PMI_list);\n",
    "apply_default_style(ax)\n",
    "ax.set_ylabel(\"Percentage of Data\");\n",
    "\n",
    "plt.savefig(\"Audio_Textual_PMI_Dist.png\", bbox_inches='tight')"
   ]
  },
  {
   "cell_type": "code",
   "execution_count": 28,
   "metadata": {},
   "outputs": [
    {
     "data": {
      "text/plain": [
       "8.36868481433309"
      ]
     },
     "execution_count": 28,
     "metadata": {},
     "output_type": "execute_result"
    }
   ],
   "source": [
    "sum(PMI_list)/len(PMI_list)"
   ]
  },
  {
   "cell_type": "code",
   "execution_count": 41,
   "metadata": {},
   "outputs": [
    {
     "data": {
      "text/plain": [
       "array([-7.6992726 , -6.7807965 , -5.6266427 , -5.481501  , -5.224794  ,\n",
       "       -5.146416  , -4.579079  , -4.4027123 , -4.305056  , -4.2590337 ,\n",
       "       -4.1551843 , -4.1382203 , -4.0186896 , -3.8949914 , -3.8697543 ,\n",
       "       -3.5772862 , -3.5459905 , -3.4639688 , -3.437162  , -3.2773232 ,\n",
       "       -3.272038  , -3.2537942 , -3.0980363 , -3.090465  , -2.8501477 ,\n",
       "       -2.8098016 , -2.7841496 , -2.7216592 , -2.678739  , -2.5881753 ,\n",
       "       -2.5386796 , -2.5155225 , -2.5120301 , -2.5024962 , -2.4231896 ,\n",
       "       -2.283009  , -2.2604146 , -2.2578511 , -2.19636   , -2.131474  ,\n",
       "       -2.1276383 , -2.0115895 , -1.973495  , -1.8853593 , -1.800652  ,\n",
       "       -1.7095299 , -1.6893663 , -1.6805634 , -1.6181016 , -1.587357  ,\n",
       "       -1.5557361 , -1.5117593 , -1.5029054 , -1.4514589 , -1.4445605 ,\n",
       "       -1.4325714 , -1.4154553 , -1.4049115 , -1.3884258 , -1.3728642 ,\n",
       "       -1.241468  , -1.2269292 , -1.214746  , -1.1768932 , -1.1529212 ,\n",
       "       -1.1387486 , -1.1348205 , -1.1333499 , -1.1141429 , -1.0735164 ,\n",
       "       -1.0547738 , -1.045279  , -0.990541  , -0.98659515, -0.9837866 ,\n",
       "       -0.9789667 , -0.96687746, -0.9570236 , -0.95608044, -0.9480319 ,\n",
       "       -0.8507552 , -0.8259225 , -0.8090668 , -0.7753749 , -0.77384615,\n",
       "       -0.7634492 , -0.75749826, -0.7355418 , -0.7132578 , -0.7127414 ,\n",
       "       -0.6717081 , -0.63839865, -0.63118076, -0.6163926 , -0.6080127 ,\n",
       "       -0.60246086, -0.5998039 , -0.5845933 , -0.58099127, -0.5677829 ],\n",
       "      dtype=float32)"
      ]
     },
     "execution_count": 41,
     "metadata": {},
     "output_type": "execute_result"
    }
   ],
   "source": [
    "PMI_list[0:100]"
   ]
  },
  {
   "cell_type": "code",
   "execution_count": 30,
   "metadata": {},
   "outputs": [
    {
     "data": {
      "text/plain": [
       "array([-7.6992726, -6.7807965, -5.6266427, ..., 30.022285 , 30.345135 ,\n",
       "       32.16418  ], dtype=float32)"
      ]
     },
     "execution_count": 30,
     "metadata": {},
     "output_type": "execute_result"
    }
   ],
   "source": [
    "PMI_list"
   ]
  },
  {
   "cell_type": "code",
   "execution_count": 40,
   "metadata": {
    "scrolled": true
   },
   "outputs": [
    {
     "data": {
      "text/plain": [
       "array(['unbound', 'ronin', 'leath', 'seasonably', 'faria', 'informer',\n",
       "       'judicially', 'embroiled', 'modestine', 'cloven', 'frighted',\n",
       "       'registry', 'pullet', 'campan', 'buckley', 'technicians',\n",
       "       'stallings', 'orang', 'semen', 'aristides', 'sighting',\n",
       "       \"student's\", 'batted', 'pave', 'distantly', 'postulates',\n",
       "       'chickie', 'instants', 'fosters', 'furlong', 'beginner',\n",
       "       'dilatory', 'boreal', 'operatic', 'disan', 'tain', 'dwelled',\n",
       "       'inheriting', 'enforces', 'barnes', 'adieux', 'maligned',\n",
       "       'detaching', 'imaginatively', 'bungled', 'centurion', 'cleric',\n",
       "       'gravest', 'pleader', 'chequered', 'someway', 'crates', \"aven't\",\n",
       "       'electra', 'untruthfulness', 'irresolutely', 'bouchet', 'mete',\n",
       "       'undetermined', 'swaggered', 'mens', 'everlastingly', 'surrenders',\n",
       "       'comport', 'barchester', 'mistakenly', 'successions', 'cottons',\n",
       "       'fannicot', 'overrated', 'contrives', 'adieus', 'pensioners',\n",
       "       'bayside', 'uncourteous', 'baptised', 'coolie', 'bicker', 'caplin',\n",
       "       'cy', 'rifled', 'linking', 'nothink', 'benefactions',\n",
       "       'auspiciously', 'perceptive', 'intensive', 'enchant', 'innkeepers',\n",
       "       'kentuck', 'raturans', 'mappen', 'incite', 'sleight',\n",
       "       'emotionless', 'reverences', 'sickles', 'retracted', 'saddler',\n",
       "       'roughed'], dtype='<U19')"
      ]
     },
     "execution_count": 40,
     "metadata": {},
     "output_type": "execute_result"
    }
   ],
   "source": [
    "word_list[0:100]"
   ]
  },
  {
   "cell_type": "code",
   "execution_count": null,
   "metadata": {},
   "outputs": [],
   "source": []
  }
 ],
 "metadata": {
  "kernelspec": {
   "display_name": "Python 3",
   "language": "python",
   "name": "python3"
  },
  "language_info": {
   "codemirror_mode": {
    "name": "ipython",
    "version": 3
   },
   "file_extension": ".py",
   "mimetype": "text/x-python",
   "name": "python",
   "nbconvert_exporter": "python",
   "pygments_lexer": "ipython3",
   "version": "3.6.9"
  }
 },
 "nbformat": 4,
 "nbformat_minor": 2
}
